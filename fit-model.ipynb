{
 "cells": [
  {
   "cell_type": "markdown",
   "id": "67f6276e",
   "metadata": {},
   "source": [
    "# Pickling Lab"
   ]
  },
  {
   "cell_type": "code",
   "execution_count": 20,
   "id": "c58ccadb",
   "metadata": {},
   "outputs": [],
   "source": [
    "import pandas as pd"
   ]
  },
  {
   "cell_type": "markdown",
   "id": "c9774793",
   "metadata": {},
   "source": [
    "### Load in data\n",
    "* Going to load a diabetes dataset I found on OpenML"
   ]
  },
  {
   "cell_type": "code",
   "execution_count": 21,
   "id": "ef1b16ff",
   "metadata": {},
   "outputs": [],
   "source": [
    "df = pd.read_csv('https://www.openml.org/data/get_csv/22044302/') "
   ]
  },
  {
   "cell_type": "code",
   "execution_count": 22,
   "id": "3b179f4c",
   "metadata": {},
   "outputs": [
    {
     "data": {
      "text/plain": [
       "Index(['Pregnancies', 'Glucose', 'BloodPressure', 'SkinThickness', 'Insulin',\n",
       "       'BMI', 'DiabetesPedigreeFunction', 'Age', 'Outcome'],\n",
       "      dtype='object')"
      ]
     },
     "execution_count": 22,
     "metadata": {},
     "output_type": "execute_result"
    }
   ],
   "source": [
    "df.columns"
   ]
  },
  {
   "cell_type": "markdown",
   "id": "556d48af",
   "metadata": {},
   "source": [
    "### Fit a pipeline\n",
    "* import functions, etc. that are needed"
   ]
  },
  {
   "cell_type": "code",
   "execution_count": 23,
   "id": "2b901cce",
   "metadata": {},
   "outputs": [],
   "source": [
    "from sklearn.ensemble import RandomForestClassifier\n",
    "from sklearn.preprocessing import StandardScaler\n",
    "from sklearn.datasets import make_classification\n",
    "from sklearn.model_selection import train_test_split\n",
    "from sklearn.pipeline import Pipeline"
   ]
  },
  {
   "cell_type": "code",
   "execution_count": 27,
   "id": "71819003",
   "metadata": {},
   "outputs": [
    {
     "data": {
      "text/plain": [
       "Pipeline(steps=[('scaler', StandardScaler()), ('rf', RandomForestClassifier())])"
      ]
     },
     "execution_count": 27,
     "metadata": {},
     "output_type": "execute_result"
    }
   ],
   "source": [
    "X, y = make_classification(random_state=0)\n",
    "X_train, X_test, y_train, y_test = train_test_split(df.drop('Outcome', axis=1), \n",
    "                                                    df.Outcome, random_state=0) # make training and testing data\n",
    "\n",
    "pipe = Pipeline([('scaler', StandardScaler()), ('rf', RandomForestClassifier())])\n",
    "\n",
    "pipe.fit(X_train, y_train)\n",
    "Pipeline(steps=[('scaler', StandardScaler()), ('rf', RandomForestClassifier())])"
   ]
  },
  {
   "cell_type": "markdown",
   "id": "c386f5d7",
   "metadata": {},
   "source": [
    "### Pickle the model"
   ]
  },
  {
   "cell_type": "code",
   "execution_count": 28,
   "id": "dd9669d6",
   "metadata": {},
   "outputs": [],
   "source": [
    "import pickle\n",
    "\n",
    "with open('model.pkl', 'wb') as f:\n",
    "    pickle.dump(pipe, f, pickle.HIGHEST_PROTOCOL)"
   ]
  },
  {
   "cell_type": "markdown",
   "id": "1a08d245",
   "metadata": {},
   "source": [
    "### Save test data to a file"
   ]
  },
  {
   "cell_type": "code",
   "execution_count": 30,
   "id": "28820dac",
   "metadata": {},
   "outputs": [],
   "source": [
    "import json\n",
    "\n",
    "new = df.drop('Outcome', axis=1)\n",
    "\n",
    "with open('newdata.py', 'w') as f:\n",
    "    json.dump(new.iloc[0].values.tolist(), f)"
   ]
  },
  {
   "cell_type": "code",
   "execution_count": null,
   "id": "326fb790",
   "metadata": {},
   "outputs": [],
   "source": [
    "# with open('newdata.py', 'w') as f:\n",
    "#    json.dump(df.iloc[0].values.tolist(), f)"
   ]
  }
 ],
 "metadata": {
  "kernelspec": {
   "display_name": "Python 3",
   "language": "python",
   "name": "python3"
  },
  "language_info": {
   "codemirror_mode": {
    "name": "ipython",
    "version": 3
   },
   "file_extension": ".py",
   "mimetype": "text/x-python",
   "name": "python",
   "nbconvert_exporter": "python",
   "pygments_lexer": "ipython3",
   "version": "3.9.2"
  }
 },
 "nbformat": 4,
 "nbformat_minor": 5
}
